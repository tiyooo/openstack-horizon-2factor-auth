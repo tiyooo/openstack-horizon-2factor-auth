{
  "nbformat": 4,
  "nbformat_minor": 0,
  "metadata": {
    "colab": {
      "name": "Untitled1.ipynb",
      "provenance": [],
      "toc_visible": true,
      "authorship_tag": "ABX9TyO5nH1pm2J7Ddbby1L7yRGl",
      "include_colab_link": true
    },
    "kernelspec": {
      "name": "python3",
      "display_name": "Python 3"
    },
    "language_info": {
      "name": "python"
    }
  },
  "cells": [
    {
      "cell_type": "markdown",
      "metadata": {
        "id": "view-in-github",
        "colab_type": "text"
      },
      "source": [
        "<a href=\"https://colab.research.google.com/github/tiyooo/openstack-horizon-2factor-auth/blob/master/Untitled1.ipynb\" target=\"_parent\"><img src=\"https://colab.research.google.com/assets/colab-badge.svg\" alt=\"Open In Colab\"/></a>"
      ]
    },
    {
      "cell_type": "code",
      "metadata": {
        "colab": {
          "base_uri": "https://localhost:8080/"
        },
        "id": "h30CkXTOeq0s",
        "outputId": "ae36e801-6a8f-4b47-a0ac-4255295a4741"
      },
      "source": [
        "import sys\n",
        "\n",
        "print(sys.version)"
      ],
      "execution_count": 1,
      "outputs": [
        {
          "output_type": "stream",
          "text": [
            "3.7.10 (default, Feb 20 2021, 21:17:23) \n",
            "[GCC 7.5.0]\n"
          ],
          "name": "stdout"
        }
      ]
    },
    {
      "cell_type": "code",
      "metadata": {
        "colab": {
          "base_uri": "https://localhost:8080/"
        },
        "id": "Hrp7OdOIff-a",
        "outputId": "362e604a-20f2-4001-df01-10156cdbf211"
      },
      "source": [
        "!mkdir images\n",
        "!mkdir models"
      ],
      "execution_count": 16,
      "outputs": [
        {
          "output_type": "stream",
          "text": [
            "mkdir: cannot create directory ‘images’: File exists\n",
            "mkdir: cannot create directory ‘models’: File exists\n"
          ],
          "name": "stdout"
        }
      ]
    },
    {
      "cell_type": "code",
      "metadata": {
        "colab": {
          "base_uri": "https://localhost:8080/"
        },
        "id": "vDiExkkjfyF0",
        "outputId": "fc6295c0-a537-4bfa-ae39-d60a2dd7890f"
      },
      "source": [
        "!pwd"
      ],
      "execution_count": 4,
      "outputs": [
        {
          "output_type": "stream",
          "text": [
            "/content\n"
          ],
          "name": "stdout"
        }
      ]
    },
    {
      "cell_type": "code",
      "metadata": {
        "colab": {
          "base_uri": "https://localhost:8080/"
        },
        "id": "cf9H06Iig5L9",
        "outputId": "f176d298-0ab6-49b0-d04d-ef7072dc8345"
      },
      "source": [
        "!wget --no-check-certificate 'http://docs.google.com/uc?export=download&id=1eqGU8hp8obD7fSB3Pu532jH9DNJd8uRY' -O models/gender_net.caffemodel"
      ],
      "execution_count": 40,
      "outputs": [
        {
          "output_type": "stream",
          "text": [
            "--2021-03-23 11:02:38--  http://docs.google.com/uc?export=download&id=1eqGU8hp8obD7fSB3Pu532jH9DNJd8uRY\n",
            "Resolving docs.google.com (docs.google.com)... 74.125.195.113, 74.125.195.102, 74.125.195.101, ...\n",
            "Connecting to docs.google.com (docs.google.com)|74.125.195.113|:80... connected.\n",
            "HTTP request sent, awaiting response... 302 Moved Temporarily\n",
            "Location: https://docs.google.com/uc?export=download&id=1eqGU8hp8obD7fSB3Pu532jH9DNJd8uRY [following]\n",
            "--2021-03-23 11:02:38--  https://docs.google.com/uc?export=download&id=1eqGU8hp8obD7fSB3Pu532jH9DNJd8uRY\n",
            "Connecting to docs.google.com (docs.google.com)|74.125.195.113|:443... connected.\n",
            "HTTP request sent, awaiting response... 302 Moved Temporarily\n",
            "Location: https://doc-0s-1s-docs.googleusercontent.com/docs/securesc/ha0ro937gcuc7l7deffksulhg5h7mbp1/5e429aqloe96pgtlmulms91eivpig08a/1616497350000/02396526014819477879/*/1eqGU8hp8obD7fSB3Pu532jH9DNJd8uRY?e=download [following]\n",
            "Warning: wildcards not supported in HTTP.\n",
            "--2021-03-23 11:02:40--  https://doc-0s-1s-docs.googleusercontent.com/docs/securesc/ha0ro937gcuc7l7deffksulhg5h7mbp1/5e429aqloe96pgtlmulms91eivpig08a/1616497350000/02396526014819477879/*/1eqGU8hp8obD7fSB3Pu532jH9DNJd8uRY?e=download\n",
            "Resolving doc-0s-1s-docs.googleusercontent.com (doc-0s-1s-docs.googleusercontent.com)... 74.125.142.132, 2607:f8b0:400e:c08::84\n",
            "Connecting to doc-0s-1s-docs.googleusercontent.com (doc-0s-1s-docs.googleusercontent.com)|74.125.142.132|:443... connected.\n",
            "HTTP request sent, awaiting response... 200 OK\n",
            "Length: unspecified [application/octet-stream]\n",
            "Saving to: ‘models/gender_net.caffemodel’\n",
            "\n",
            "models/gender_net.c     [  <=>               ]  43.53M   183MB/s    in 0.2s    \n",
            "\n",
            "2021-03-23 11:02:41 (183 MB/s) - ‘models/gender_net.caffemodel’ saved [45649168]\n",
            "\n"
          ],
          "name": "stdout"
        }
      ]
    },
    {
      "cell_type": "code",
      "metadata": {
        "colab": {
          "base_uri": "https://localhost:8080/",
          "height": 287
        },
        "id": "DTqxIAfXjwoT",
        "outputId": "8b8ccfa3-a4a2-4ecd-8d54-0f79100ff532"
      },
      "source": [
        "import cv2, glob, dlib\n",
        "from google.colab.patches import cv2_imshow   # ide 사용하시는분들은 없어도 됩니다.\n",
        "\n",
        "detector = dlib.get_frontal_face_detector()\n",
        "\n",
        "age_net = cv2.dnn.readNetFromCaffe('models/gender_deploy.prototxt','models/gender_net.caffemodel')\n",
        "age_net = cv2.dnn.readNetFromCaffe('models/age_deploy.prototxt','models/age_net.caffemodel')\n",
        "\n",
        "gender_list = ['Male','Female']\n",
        "age_list = ['(0,2)','(4,6)','(10,15)','(16,20)']\n",
        "detector = dlib.get_frontal_face_detector()\n",
        "gender_net = cv2.dnn.readNetFromCaffe('models/gender_deploy.prototxt','models/gender_net.caffemodel')\n",
        "\n",
        "\n",
        "img_list = glob.glob('images/*.jpg')  # 확장자가 .jpg 인 파일을 모두 가지고 와라\n",
        "\n",
        "for img_path in img_list:\n",
        "  img = cv2.imread(img_path)\n",
        "  faces = detector(img)\n",
        "\n",
        "  for face in faces :\n",
        "   x1,y1,x2,y2=face.left(),face.top(),face.right(),face.bottom()\n",
        "   face_img = img[y1:y2,x1:x2].copy()\n",
        "   blob = cv2.dnn.blobFromImage(face_img, scalefactor=1, size=(300,300), mean=(78.4263377603, 87.7689143744, 114.895847746), swapRB=False , crop=False)\n",
        "  \n",
        "  \n",
        "  # gender predict \n",
        "  gender_net.setInput(blob)\n",
        "  gender_preds = gender_net.forward()\n",
        "  gender = gender_list[gender_preds[0].argmax()]\n",
        "\n",
        "  #age predict\n",
        "  age_net.setInput(blob)\n",
        "  age_preds = age_net.forward()\n",
        "  age = age_list[age_preds[0].argmax()]\n",
        "\n",
        "  #show\n",
        "  cv2.rectangle(img, (x1,y1),(x2,y2),(255,255,255),2)\n",
        "  overwrap_text = '%s %s' % (gender, age)\n",
        "  cv2.putText(img,overwrap_text, org=(x1,y1), fontFace=cv2.FONT_HEMPLEX, fontScale=1, color=(0,0,0), thickness=10)\n",
        "  cv2.putText(img,overwrap_text, org=(x1,y1), fontFace=cv2.FONT_HEMPLEX, fontScale=1, color=(255,255,255), thickness=2)\n",
        "\n",
        "  cv2_imshow\n",
        "\n"
      ],
      "execution_count": 41,
      "outputs": [
        {
          "output_type": "error",
          "ename": "error",
          "evalue": "ignored",
          "traceback": [
            "\u001b[0;31m---------------------------------------------------------------------------\u001b[0m",
            "\u001b[0;31merror\u001b[0m                                     Traceback (most recent call last)",
            "\u001b[0;32m<ipython-input-41-0d5f9ed978cb>\u001b[0m in \u001b[0;36m<module>\u001b[0;34m()\u001b[0m\n\u001b[1;32m     27\u001b[0m   \u001b[0;31m# gender predict\u001b[0m\u001b[0;34m\u001b[0m\u001b[0;34m\u001b[0m\u001b[0;34m\u001b[0m\u001b[0m\n\u001b[1;32m     28\u001b[0m   \u001b[0mgender_net\u001b[0m\u001b[0;34m.\u001b[0m\u001b[0msetInput\u001b[0m\u001b[0;34m(\u001b[0m\u001b[0mblob\u001b[0m\u001b[0;34m)\u001b[0m\u001b[0;34m\u001b[0m\u001b[0;34m\u001b[0m\u001b[0m\n\u001b[0;32m---> 29\u001b[0;31m   \u001b[0mgender_preds\u001b[0m \u001b[0;34m=\u001b[0m \u001b[0mgender_net\u001b[0m\u001b[0;34m.\u001b[0m\u001b[0mforward\u001b[0m\u001b[0;34m(\u001b[0m\u001b[0;34m)\u001b[0m\u001b[0;34m\u001b[0m\u001b[0;34m\u001b[0m\u001b[0m\n\u001b[0m\u001b[1;32m     30\u001b[0m   \u001b[0mgender\u001b[0m \u001b[0;34m=\u001b[0m \u001b[0mgender_list\u001b[0m\u001b[0;34m[\u001b[0m\u001b[0mgender_preds\u001b[0m\u001b[0;34m[\u001b[0m\u001b[0;36m0\u001b[0m\u001b[0;34m]\u001b[0m\u001b[0;34m.\u001b[0m\u001b[0margmax\u001b[0m\u001b[0;34m(\u001b[0m\u001b[0;34m)\u001b[0m\u001b[0;34m]\u001b[0m\u001b[0;34m\u001b[0m\u001b[0;34m\u001b[0m\u001b[0m\n\u001b[1;32m     31\u001b[0m \u001b[0;34m\u001b[0m\u001b[0m\n",
            "\u001b[0;31merror\u001b[0m: OpenCV(4.1.2) /io/opencv/modules/dnn/src/layers/fully_connected_layer.cpp:154: error: (-215:Assertion failed) srcMat.dims == 2 && srcMat.cols == weights.cols && dstMat.rows == srcMat.rows && dstMat.cols == weights.rows && srcMat.type() == weights.type() && weights.type() == dstMat.type() && srcMat.type() == CV_32F && (biasMat.empty() || (biasMat.type() == srcMat.type() && biasMat.isContinuous() && (int)biasMat.total() == dstMat.cols)) in function 'run'\n"
          ]
        }
      ]
    },
    {
      "cell_type": "code",
      "metadata": {
        "id": "UcBLHqC1i6hI"
      },
      "source": [
        ""
      ],
      "execution_count": null,
      "outputs": []
    }
  ]
}